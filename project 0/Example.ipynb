{
 "cells": [
  {
   "cell_type": "markdown",
   "metadata": {},
   "source": [
    "# Пример двух стратегий\n",
    "    которые угадывают число, опираясь на знании больше\\меньше ли угаданное число    "
   ]
  },
  {
   "cell_type": "code",
   "execution_count": 2,
   "metadata": {},
   "outputs": [],
   "source": [
    "import numpy as np\n",
    "\n",
    "def game_core_v1(number, highValue):\n",
    "    count = 0\n",
    "    while True:\n",
    "        count += 1\n",
    "        predict = np.random.randint(1, highValue)\n",
    "        if number == predict:\n",
    "            return(count)\n",
    "\n",
    "def game_core_v2(number, highValue):\n",
    "    \n",
    "    count = 0    \n",
    "    maxValue = highValue\n",
    "    minValue = 0\n",
    "    predict = (maxValue + minValue) // 2\n",
    "    while number != predict:\n",
    "        count += 1\n",
    "        predict = (maxValue + minValue) // 2\n",
    "        if number > predict:\n",
    "            minValue = predict + 1\n",
    "        else:\n",
    "            maxValue = predict - 1\n",
    "    return(count)\n",
    "\n",
    "def score_game(core):\n",
    "    highValue = 101\n",
    "    count_ls = []\n",
    "    np.random.seed(1)\n",
    "    random_array = np.random.randint(1, highValue, size=(1000))\n",
    "    for number in random_array:\n",
    "        count_ls.append(core(number, highValue))\n",
    "    score = int(np.mean(count_ls))\n",
    "    print(f\"Ваш алгоритм угадывает число в среднем за {score} попыток\")\n",
    "    return(score)"
   ]
  },
  {
   "cell_type": "markdown",
   "metadata": {},
   "source": [
    "## Запускаем сначала первую версию, потом вторую"
   ]
  },
  {
   "cell_type": "code",
   "execution_count": 3,
   "metadata": {},
   "outputs": [
    {
     "name": "stdout",
     "output_type": "stream",
     "text": [
      "Ваш алгоритм угадывает число в среднем за 101 попыток\n",
      "Ваш алгоритм угадывает число в среднем за 5 попыток\n"
     ]
    },
    {
     "data": {
      "text/plain": [
       "5"
      ]
     },
     "execution_count": 3,
     "metadata": {},
     "output_type": "execute_result"
    }
   ],
   "source": [
    "score_game(game_core_v1)\n",
    "score_game(game_core_v2)"
   ]
  }
 ],
 "metadata": {
  "kernelspec": {
   "display_name": "Python 3",
   "language": "python",
   "name": "python3"
  },
  "language_info": {
   "codemirror_mode": {
    "name": "ipython",
    "version": 3
   },
   "file_extension": ".py",
   "mimetype": "text/x-python",
   "name": "python",
   "nbconvert_exporter": "python",
   "pygments_lexer": "ipython3",
   "version": "3.7.6"
  }
 },
 "nbformat": 4,
 "nbformat_minor": 4
}
